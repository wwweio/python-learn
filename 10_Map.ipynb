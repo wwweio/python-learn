{
 "cells": [
  {
   "cell_type": "code",
   "execution_count": null,
   "metadata": {},
   "outputs": [],
   "source": [
    "# 字典dict\n",
    "# 如何创建空的dict \n",
    "# 1、空的花括号\n",
    "dict = {}\n",
    "# 2、字典的内置函数\n",
    "dict1 = dict()\n"
   ]
  },
  {
   "cell_type": "code",
   "execution_count": 5,
   "metadata": {},
   "outputs": [
    {
     "name": "stdout",
     "output_type": "stream",
     "text": [
      "jack\n",
      "True\n",
      "2\n"
     ]
    }
   ],
   "source": [
    "#1.访问 使用方括号访问\n",
    "map = {\n",
    "    'name' : 'jack',\n",
    "    'age' : 18\n",
    "}\n",
    "\n",
    "# 1.访问存在的元素\n",
    "print(map['name'])\n",
    "# 2.访问不存在的元素 会报错\n",
    "# print(map['name1'])\n",
    "\n",
    "\n",
    "# 其他操作\n",
    "# 1.判断key在map中是否存在\n",
    "print('name' in map)\n",
    "\n",
    "# 2.获取map的长度\n",
    "print(len(map))\n"
   ]
  },
  {
   "cell_type": "code",
   "execution_count": null,
   "metadata": {},
   "outputs": [],
   "source": [
    "#2.修改\n",
    "map['age'] = 8 \n",
    "map['School'] = \"wensdu\""
   ]
  },
  {
   "cell_type": "code",
   "execution_count": 12,
   "metadata": {},
   "outputs": [
    {
     "name": "stdout",
     "output_type": "stream",
     "text": [
      "{'age': 18}\n",
      "{}\n"
     ]
    },
    {
     "ename": "NameError",
     "evalue": "name 'user' is not defined",
     "output_type": "error",
     "traceback": [
      "\u001b[1;31m---------------------------------------------------------------------------\u001b[0m",
      "\u001b[1;31mNameError\u001b[0m                                 Traceback (most recent call last)",
      "Cell \u001b[1;32mIn[12], line 17\u001b[0m\n\u001b[0;32m     15\u001b[0m \u001b[38;5;66;03m# 3)删除字段.删除之后就找不到引用信息了\u001b[39;00m\n\u001b[0;32m     16\u001b[0m \u001b[38;5;28;01mdel\u001b[39;00m user\n\u001b[1;32m---> 17\u001b[0m \u001b[38;5;28mprint\u001b[39m(\u001b[43muser\u001b[49m)\n",
      "\u001b[1;31mNameError\u001b[0m: name 'user' is not defined"
     ]
    }
   ],
   "source": [
    "#3.删除\n",
    "user = {\n",
    "    'name' : 'jack',\n",
    "    'age' : 18\n",
    "}\n",
    "\n",
    "# 1)删除某一个元素\n",
    "del(user['name'])\n",
    "print(user)\n",
    "\n",
    "# 2)清空字典\n",
    "user.clear()\n",
    "print(user)\n",
    "\n",
    "# 3)删除字段.删除之后就找不到引用信息了\n",
    "del user\n",
    "print(user)\n"
   ]
  },
  {
   "cell_type": "markdown",
   "metadata": {},
   "source": [
    "注意事项：\n",
    "1. key不能重复，重复会导致，后一个值会将前面的值覆盖掉\n",
    "2. key不可变。key可以为字符串、数字、元组，不能是列表"
   ]
  },
  {
   "cell_type": "code",
   "execution_count": 31,
   "metadata": {},
   "outputs": [
    {
     "name": "stdout",
     "output_type": "stream",
     "text": [
      "6\n",
      "{'id': 12345, 'name': 'Alice Smith', 'age': 30, 'email': 'alice@example.com', 'address': {'street': '123 Main Street'}, 'phone': '555-123-4567', 'sex': 'man'}\n",
      "dict_items([('id', 12345), ('name', 'Alice Smith'), ('age', 30), ('email', 'alice@example.com'), ('address', {'street': '123 Main Street'}), ('phone', '555-123-4567'), ('sex', 'man')])\n",
      "dict_keys(['id', 'name', 'age', 'email', 'address', 'phone', 'sex'])\n",
      "dict_values([12345, 'Alice Smith', 30, 'alice@example.com', {'street': '123 Main Street'}, '555-123-4567', 'man'])\n",
      "key12不存在\n",
      "('sex', 'man')\n",
      "{'id': 12345, 'name': 'Alice Smith', 'age': 30, 'email': 'alice@example.com', 'address': {'street': '123 Main Street'}, 'phone': '555-123-4567'}\n",
      "{'id': 12345, 'name': 'madadan', 'age': 30, 'email': 'alice@example.com', 'address': {'street': '123 Main Street'}, 'phone': '555-123-4567', 'albb': '999'}\n"
     ]
    }
   ],
   "source": [
    "# 内置函数\n",
    "dict = {\n",
    "  \"id\": 12345,\n",
    "  \"name\": \"Alice Smith\",\n",
    "  \"age\": 30,\n",
    "  \"email\": \"alice@example.com\",\n",
    "  \"address\": {\n",
    "    \"street\": \"123 Main Street\"\n",
    "  },\n",
    "  \"phone\": \"555-123-4567\"\n",
    "}\n",
    "\n",
    "# 1.长度\n",
    "print(len(dict))\n",
    "\n",
    "# 2.按照字符串打印整个信息\n",
    "str(dict)\n",
    "\n",
    "# 3.查看字典类型\n",
    "type(dict)\n",
    "\n",
    "# 4.获取值，key不存在时返回默认值\n",
    "dict.get('school', 18)\n",
    "\n",
    "# 5.获取值，key不存在时设置默认值\n",
    "dict.setdefault('sex', 'man')\n",
    "print(dict)\n",
    "\n",
    "# 6.字段浅复制  dict.copy()\n",
    "\n",
    "# 7.视图查看\n",
    "# 1)以列表返回一个视图\n",
    "print(dict.items())\n",
    "\n",
    "# 2)查看字典的所有键\n",
    "print(dict.keys())\n",
    "\n",
    "# 3）查看字典的所有值\n",
    "print(dict.values())\n",
    "\n",
    "# 8.删除元素，没有则返回默认值\n",
    "print(dict.pop('key12', 'key12不存在'))\n",
    "# 9.返回并删除字典中的最后一个键值对\n",
    "print(dict.popitem())\n",
    "print(dict)\n",
    "\n",
    "# 10.将其他字典中的值更新到dict中。有相同的key则更新，无相同的key则新增\n",
    "dict2 = {\n",
    "    'name' : 'madadan',\n",
    "    'albb' : '999'\n",
    "}\n",
    "dict.update(dict2)\n",
    "print(dict)"
   ]
  },
  {
   "cell_type": "code",
   "execution_count": 58,
   "metadata": {},
   "outputs": [
    {
     "name": "stdout",
     "output_type": "stream",
     "text": [
      "{'id': 12345,\n",
      " 'name': 'Alice Smith',\n",
      " 'age': 30,\n",
      " 'email': 'alice@example.com',\n",
      " 'address': {'street': '123 Main Street'},\n",
      " 'phone': '555-123-4567'}\n"
     ]
    }
   ],
   "source": [
    "# 格式化打印\n",
    "import json\n",
    "import pprint\n",
    "\n",
    "dict = {\n",
    "  \"id\": 12345,\n",
    "  \"name\": \"Alice Smith\",\n",
    "  \"age\": 30,\n",
    "  \"email\": \"alice@example.com\",\n",
    "  \"address\": {\n",
    "    \"street\": \"123 Main Street\"\n",
    "  },\n",
    "  \"phone\": \"555-123-4567\"\n",
    "}\n",
    "\n",
    "pprint.pprint(dict,compact=False,sort_dicts=False)"
   ]
  }
 ],
 "metadata": {
  "kernelspec": {
   "display_name": "base",
   "language": "python",
   "name": "python3"
  },
  "language_info": {
   "codemirror_mode": {
    "name": "ipython",
    "version": 3
   },
   "file_extension": ".py",
   "mimetype": "text/x-python",
   "name": "python",
   "nbconvert_exporter": "python",
   "pygments_lexer": "ipython3",
   "version": "3.10.9"
  }
 },
 "nbformat": 4,
 "nbformat_minor": 2
}
