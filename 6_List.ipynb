{
 "cells": [
  {
   "cell_type": "code",
   "execution_count": 1,
   "metadata": {},
   "outputs": [],
   "source": [
    "# 列表 标志 方括号  []\n",
    "list1 = ['physics', 'chemistry', 1997, 2000]"
   ]
  },
  {
   "cell_type": "code",
   "execution_count": 3,
   "metadata": {},
   "outputs": [
    {
     "name": "stdout",
     "output_type": "stream",
     "text": [
      "physics\n",
      "['chemistry', 1997, 2000]\n"
     ]
    }
   ],
   "source": [
    "# 1.访问列表信息\n",
    "\n",
    "print(list1[0])\n",
    "print(list1[1:])"
   ]
  },
  {
   "cell_type": "code",
   "execution_count": 4,
   "metadata": {},
   "outputs": [
    {
     "name": "stdout",
     "output_type": "stream",
     "text": [
      "chemistry\n",
      "base_l\n",
      "['physics', 'base_l', 1997, 2000, 'this is last one']\n"
     ]
    }
   ],
   "source": [
    "# 2.更新列表\n",
    "print(list1[1])\n",
    "# 1)直接修改指定元素\n",
    "list1[1] = 'base_l'\n",
    "print(list1[1])\n",
    "\n",
    "# 2）追加元素   python中的列表是可以追加元素的\n",
    "list1.append('this is last one')\n",
    "print(list1)"
   ]
  },
  {
   "cell_type": "code",
   "execution_count": 5,
   "metadata": {},
   "outputs": [
    {
     "name": "stdout",
     "output_type": "stream",
     "text": [
      "['physics', 'base_l', 1997, 2000, 'this is last one']\n",
      "['physics', 'base_l', 1997, 2000]\n"
     ]
    }
   ],
   "source": [
    "# 3.删除元素\n",
    "print(list1)\n",
    "# eg:删除最后一个元素\n",
    "del(list1[-1])\n",
    "print(list1)"
   ]
  },
  {
   "cell_type": "code",
   "execution_count": 6,
   "metadata": {},
   "outputs": [
    {
     "data": {
      "text/plain": [
       "'name is jack'"
      ]
     },
     "execution_count": 6,
     "metadata": {},
     "output_type": "execute_result"
    }
   ],
   "source": [
    "name = 'jack'\n",
    "f'name is {name}'"
   ]
  },
  {
   "cell_type": "code",
   "execution_count": 13,
   "metadata": {},
   "outputs": [
    {
     "name": "stdout",
     "output_type": "stream",
     "text": [
      "['nihao', 'nihao', 'nihao', 'nihao']\n",
      "['physics', 'base_l', 1997, 2000, 'nihao', 'nihao', 'nihao', 'nihao']\n",
      "physics base_l 1997 2000 nihao nihao nihao nihao "
     ]
    }
   ],
   "source": [
    "# 常用操作符\n",
    "# 1.获取长度\n",
    "len(list1)\n",
    "\n",
    "# 2.重复内容生成\n",
    "list2 = ['nihao']*4\n",
    "print(list2)\n",
    "\n",
    "# 3.使用 + 即可获的新的列表\n",
    "list3 = list1 + list2\n",
    "print(list3)\n",
    "\n",
    "# 4.迭代打印\n",
    "for i in list3:\n",
    "    print(i, end=' ')"
   ]
  },
  {
   "cell_type": "code",
   "execution_count": 17,
   "metadata": {},
   "outputs": [
    {
     "name": "stdout",
     "output_type": "stream",
     "text": [
      "True\n",
      "False\n",
      "3\n"
     ]
    }
   ],
   "source": [
    "import operator\n",
    "# 如何比较2个列表是否相同\n",
    "print([1, 2, 3] == [1, 2, 3])\n",
    "print(list1 == list2)\n",
    "\n",
    "# 查看最大值 最大值和最小值只能用于数值类型\n",
    "print(max([1,2,3]))"
   ]
  },
  {
   "cell_type": "code",
   "execution_count": null,
   "metadata": {},
   "outputs": [],
   "source": []
  }
 ],
 "metadata": {
  "kernelspec": {
   "display_name": "base",
   "language": "python",
   "name": "python3"
  },
  "language_info": {
   "codemirror_mode": {
    "name": "ipython",
    "version": 3
   },
   "file_extension": ".py",
   "mimetype": "text/x-python",
   "name": "python",
   "nbconvert_exporter": "python",
   "pygments_lexer": "ipython3",
   "version": "3.10.9"
  }
 },
 "nbformat": 4,
 "nbformat_minor": 2
}
