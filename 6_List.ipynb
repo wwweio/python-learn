{
 "cells": [
  {
   "cell_type": "code",
   "execution_count": 20,
   "metadata": {},
   "outputs": [],
   "source": [
    "list1 = ['physics', 'chemistry', 1997, 2000]"
   ]
  },
  {
   "cell_type": "code",
   "execution_count": 21,
   "metadata": {},
   "outputs": [
    {
     "name": "stdout",
     "output_type": "stream",
     "text": [
      "physics\n",
      "['chemistry', 1997, 2000]\n"
     ]
    }
   ],
   "source": [
    "# 1.访问列表信息\n",
    "\n",
    "print(list1[0])\n",
    "print(list1[1:])"
   ]
  },
  {
   "cell_type": "code",
   "execution_count": 22,
   "metadata": {},
   "outputs": [
    {
     "name": "stdout",
     "output_type": "stream",
     "text": [
      "chemistry\n",
      "base_l\n",
      "['physics', 'base_l', 1997, 2000, 'this is last one']\n"
     ]
    }
   ],
   "source": [
    "# 2.更新列表\n",
    "print(list1[1])\n",
    "# 1)直接修改指定元素\n",
    "list1[1] = 'base_l'\n",
    "print(list1[1])\n",
    "\n",
    "# 2）追加元素   python中的列表是可以追加元素的\n",
    "list1.append('this is last one')\n",
    "print(list1)"
   ]
  },
  {
   "cell_type": "code",
   "execution_count": 23,
   "metadata": {},
   "outputs": [
    {
     "name": "stdout",
     "output_type": "stream",
     "text": [
      "['physics', 'base_l', 1997, 2000, 'this is last one']\n",
      "['physics', 'base_l', 1997, 2000]\n"
     ]
    }
   ],
   "source": [
    "# 3.删除元素\n",
    "print(list1)\n",
    "# eg:删除最后一个元素\n",
    "del(list1[-1])\n",
    "print(list1)"
   ]
  },
  {
   "cell_type": "code",
   "execution_count": 24,
   "metadata": {},
   "outputs": [
    {
     "data": {
      "text/plain": [
       "'name is jack'"
      ]
     },
     "execution_count": 24,
     "metadata": {},
     "output_type": "execute_result"
    }
   ],
   "source": [
    "name = 'jack'\n",
    "f'name is {name}'"
   ]
  }
 ],
 "metadata": {
  "kernelspec": {
   "display_name": "base",
   "language": "python",
   "name": "python3"
  },
  "language_info": {
   "codemirror_mode": {
    "name": "ipython",
    "version": 3
   },
   "file_extension": ".py",
   "mimetype": "text/x-python",
   "name": "python",
   "nbconvert_exporter": "python",
   "pygments_lexer": "ipython3",
   "version": "3.10.9"
  }
 },
 "nbformat": 4,
 "nbformat_minor": 2
}
