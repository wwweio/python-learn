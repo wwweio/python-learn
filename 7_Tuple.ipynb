{
 "cells": [
  {
   "cell_type": "code",
   "execution_count": 8,
   "metadata": {},
   "outputs": [
    {
     "name": "stdout",
     "output_type": "stream",
     "text": [
      "<class 'str'>\n",
      "<class 'tuple'>\n"
     ]
    }
   ],
   "source": [
    "# 元组 1.定义 使用圆括号定义的一组值  正向索引下标从0开始\n",
    "tuple = ('name', 1, 100)\n",
    "\n",
    "# 注意：元组中只有1个元素时，需要在元素后添加逗号，否则不会被识别为元组\n",
    "single_tulpe1 = ('a')\n",
    "single_tulpe2 = ('a',)\n",
    "print(type(single_tulpe1))\n",
    "print(type(single_tulpe2))"
   ]
  },
  {
   "cell_type": "code",
   "execution_count": 10,
   "metadata": {},
   "outputs": [
    {
     "name": "stdout",
     "output_type": "stream",
     "text": [
      "100\n"
     ]
    }
   ],
   "source": [
    "# 2.访问 下标值直接访问即可\n",
    "print(tuple[2])\n"
   ]
  },
  {
   "cell_type": "markdown",
   "metadata": {},
   "source": [
    "**元组中的元素不允许修改！**"
   ]
  },
  {
   "cell_type": "code",
   "execution_count": 11,
   "metadata": {},
   "outputs": [
    {
     "ename": "TypeError",
     "evalue": "'tuple' object does not support item assignment",
     "output_type": "error",
     "traceback": [
      "\u001b[0;31m---------------------------------------------------------------------------\u001b[0m",
      "\u001b[0;31mTypeError\u001b[0m                                 Traceback (most recent call last)",
      "Cell \u001b[0;32mIn[11], line 2\u001b[0m\n\u001b[1;32m      1\u001b[0m \u001b[38;5;66;03m# 3.修改\u001b[39;00m\n\u001b[0;32m----> 2\u001b[0m \u001b[38;5;28mtuple\u001b[39m[\u001b[38;5;241m1\u001b[39m] \u001b[38;5;241m=\u001b[39m \u001b[38;5;241m10\u001b[39m\n",
      "\u001b[0;31mTypeError\u001b[0m: 'tuple' object does not support item assignment"
     ]
    }
   ],
   "source": [
    "# 3.修改非法。只允许元组加和生成新的元组\n",
    "tuple[1] = 10"
   ]
  },
  {
   "cell_type": "code",
   "execution_count": 4,
   "metadata": {},
   "outputs": [],
   "source": [
    "# 4.不允许删除元组中的元素，只能使用del删除整个元组。\n"
   ]
  },
  {
   "cell_type": "code",
   "execution_count": 14,
   "metadata": {},
   "outputs": [
    {
     "name": "stdout",
     "output_type": "stream",
     "text": [
      "('huang', 'huang', 'huang', 'huang')\n",
      "huanghuanghuanghuang\n"
     ]
    }
   ],
   "source": [
    "# 5.运算符 和列表相同，需要注意的一点是，在重复元素构成元组时，不要忘记添加逗号,否则就不是元组了。示例如下：\n",
    "repeat_tuple = ('huang',)*4\n",
    "repeat_tuple2 = ('huang')*4\n",
    "print(repeat_tuple)\n",
    "print(repeat_tuple2)"
   ]
  },
  {
   "cell_type": "code",
   "execution_count": 41,
   "metadata": {},
   "outputs": [
    {
     "name": "stdout",
     "output_type": "stream",
     "text": [
      "1 2 3 yr wweio \n",
      "1 2 3 yr wweio \n",
      "wweio yr 3 2 1 "
     ]
    }
   ],
   "source": [
    "# 6.索引遍历\n",
    "t = (1, 2, 3, 'yr', 'wweio')\n",
    "# 正向遍历1  range(len(t))生成的是一个从0到len(t)-1连续的整数序列\n",
    "for i in range(len(t)):\n",
    "    print(t[i], end=' ')\n",
    "print('\\r')\n",
    "\n",
    "# 正向遍历2\n",
    "for i in t:\n",
    "    print(i, end=' ')\n",
    "print('\\r')\n",
    "\n",
    "# 反向遍历 range(start, stop, step)\n",
    "for i in range(len(t)-1, -1, -1):\n",
    "    print(t[i], end=' ')"
   ]
  },
  {
   "cell_type": "code",
   "execution_count": 55,
   "metadata": {},
   "outputs": [
    {
     "name": "stdout",
     "output_type": "stream",
     "text": [
      "4681200912\n",
      "4681196672\n"
     ]
    }
   ],
   "source": [
    "# 7.内置函数  tuple不可变\n",
    "print(id(tuple))\n",
    "tuple = ('124',)*4\n",
    "print(id(tuple))"
   ]
  },
  {
   "cell_type": "code",
   "execution_count": 57,
   "metadata": {},
   "outputs": [
    {
     "ename": "ValueError",
     "evalue": "too many values to unpack (expected 2)",
     "output_type": "error",
     "traceback": [
      "\u001b[0;31m---------------------------------------------------------------------------\u001b[0m",
      "\u001b[0;31mValueError\u001b[0m                                Traceback (most recent call last)",
      "Cell \u001b[0;32mIn[57], line 7\u001b[0m\n\u001b[1;32m      5\u001b[0m a\u001b[38;5;241m=\u001b[39m\u001b[38;5;241m10\u001b[39m\n\u001b[1;32m      6\u001b[0m b\u001b[38;5;241m=\u001b[39m\u001b[38;5;241m20\u001b[39m\n\u001b[0;32m----> 7\u001b[0m a,b\u001b[38;5;241m=\u001b[39mb,a,\u001b[38;5;241m1\u001b[39m\n",
      "\u001b[0;31mValueError\u001b[0m: too many values to unpack (expected 2)"
     ]
    }
   ],
   "source": [
    "# 8.元组会自动装包拆包 \n",
    "# 当return多个值，但接收处只有1个字段时，会自动装包成元组返回\n",
    "# 多个字段赋值时，会自动拆包 a,b,c=(1,2,3)\n",
    "# 拆包时，如果变量个数和元组个数不同，会报错\n",
    "a=10\n",
    "b=20\n",
    "a,b=b,a,1"
   ]
  }
 ],
 "metadata": {
  "kernelspec": {
   "display_name": "base",
   "language": "python",
   "name": "python3"
  },
  "language_info": {
   "codemirror_mode": {
    "name": "ipython",
    "version": 3
   },
   "file_extension": ".py",
   "mimetype": "text/x-python",
   "name": "python",
   "nbconvert_exporter": "python",
   "pygments_lexer": "ipython3",
   "version": "3.12.2"
  }
 },
 "nbformat": 4,
 "nbformat_minor": 2
}
