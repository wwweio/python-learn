{
 "cells": [
  {
   "cell_type": "code",
   "execution_count": 3,
   "id": "211c9418",
   "metadata": {},
   "outputs": [
    {
     "data": {
      "text/plain": [
       "(1, 2, 3)"
      ]
     },
     "execution_count": 3,
     "metadata": {},
     "output_type": "execute_result"
    }
   ],
   "source": [
    "def add(m, n):\n",
    "    return m, n, m + n\n",
    "add(1, 2)"
   ]
  },
  {
   "cell_type": "code",
   "execution_count": null,
   "id": "5813114a",
   "metadata": {},
   "outputs": [
    {
     "data": {
      "text/plain": [
       "120"
      ]
     },
     "execution_count": 5,
     "metadata": {},
     "output_type": "execute_result"
    }
   ],
   "source": [
    "# 函数引入同时使用别名：求阶乘,\n",
    "from math import factorial as f\n",
    "f(5)"
   ]
  },
  {
   "cell_type": "code",
   "execution_count": 8,
   "id": "bc6179d9",
   "metadata": {},
   "outputs": [
    {
     "name": "stdout",
     "output_type": "stream",
     "text": [
      "1 5 3\n"
     ]
    }
   ],
   "source": [
    "# 关键词参数:可以不按照顺序传递参数\n",
    "def print_num(b = 2, a = 1, c = 3):\n",
    "    print(a, b, c)\n",
    "print_num(5,1)"
   ]
  },
  {
   "cell_type": "code",
   "execution_count": 18,
   "id": "56761f9b",
   "metadata": {},
   "outputs": [
    {
     "ename": "SyntaxError",
     "evalue": "positional argument follows keyword argument (3451789291.py, line 9)",
     "output_type": "error",
     "traceback": [
      "\u001b[0;36m  Cell \u001b[0;32mIn[18], line 9\u001b[0;36m\u001b[0m\n\u001b[0;31m    print_num(a = 2, b = 2, 3)\u001b[0m\n\u001b[0m                             ^\u001b[0m\n\u001b[0;31mSyntaxError\u001b[0m\u001b[0;31m:\u001b[0m positional argument follows keyword argument\n"
     ]
    }
   ],
   "source": [
    "# 3. 强制位置参数：/,表示/前的参数必须按位置传递，不能使用关键字参数\n",
    "def print_num(b = 2, a = 1, /, c = 3):\n",
    "    print(a, b, c)\n",
    "\n",
    "\n",
    "print_num(1, 2, c = 2)\n",
    "\n",
    "# 会报错：位置参数不能出现在关键字参数之后\n",
    "print_num(a = 2, b = 2, 3)"
   ]
  },
  {
   "cell_type": "code",
   "execution_count": 22,
   "id": "96d2621d",
   "metadata": {},
   "outputs": [
    {
     "ename": "SyntaxError",
     "evalue": "positional argument follows keyword argument (257340153.py, line 5)",
     "output_type": "error",
     "traceback": [
      "\u001b[0;36m  Cell \u001b[0;32mIn[22], line 5\u001b[0;36m\u001b[0m\n\u001b[0;31m    print_num(1, a= 2, 2)\u001b[0m\n\u001b[0m                        ^\u001b[0m\n\u001b[0;31mSyntaxError\u001b[0m\u001b[0;31m:\u001b[0m positional argument follows keyword argument\n"
     ]
    }
   ],
   "source": [
    "def print_num(b = 2, *, a = 1, c = 3):\n",
    "    print(a, b, c)\n",
    "\n",
    "print_num(1, c = 2, a = 2)\n",
    "print_num(1, a= 2, 2)"
   ]
  },
  {
   "cell_type": "code",
   "execution_count": 88,
   "id": "9a5952a8",
   "metadata": {},
   "outputs": [
    {
     "data": {
      "text/plain": [
       "'gkQl3Lqn'"
      ]
     },
     "execution_count": 88,
     "metadata": {},
     "output_type": "execute_result"
    }
   ],
   "source": [
    "# 生成随机验证码\n",
    "import random\n",
    "import string\n",
    "\n",
    "ALL_CHARS = string.digits + string.ascii_letters\n",
    "\n",
    "def generate_code(*, code_len=4):\n",
    "    \"\"\"\n",
    "    生成指定长度的验证码\n",
    "    :param code_len: 验证码的长度(默认4个字符)\n",
    "    :return: 由大小写英文字母和数字构成的随机验证码字符串\n",
    "    \"\"\"\n",
    "    return ''.join(random.choices(ALL_CHARS, k=code_len))\n",
    "\n",
    "generate_code(code_len=8)"
   ]
  },
  {
   "cell_type": "code",
   "execution_count": 185,
   "id": "97b72b84",
   "metadata": {},
   "outputs": [
    {
     "data": {
      "text/plain": [
       "(1, 3, 5)"
      ]
     },
     "execution_count": 185,
     "metadata": {},
     "output_type": "execute_result"
    }
   ],
   "source": [
    "# 显式定义返回信息\n",
    "def func(a:int, b:int, c = 5) -> tuple[int, int, int]:\n",
    "    return a, b, c\n",
    "\n",
    "func(1,3)"
   ]
  },
  {
   "cell_type": "code",
   "execution_count": null,
   "id": "e427b741",
   "metadata": {},
   "outputs": [
    {
     "name": "stdout",
     "output_type": "stream",
     "text": [
      "3\n"
     ]
    }
   ],
   "source": [
    "# 高阶函数\n",
    "# 1.将函数作为参数传入\n",
    "import operator\n",
    "\n",
    "def cal(oper_fun, *args):\n",
    "    return oper_fun(*args)\n",
    "\n",
    "print(cal(operator.add, 1, 2))"
   ]
  },
  {
   "cell_type": "code",
   "execution_count": 205,
   "id": "9b0c420c",
   "metadata": {},
   "outputs": [
    {
     "name": "stdout",
     "output_type": "stream",
     "text": [
      "[12, 8, 60, 52]\n",
      "[144, 64, 3600, 2704]\n",
      "[144, 64, 3600, 2704]\n",
      "[144, 64, 3600, 2704]\n"
     ]
    }
   ],
   "source": [
    "# 2. 其他高阶函数\n",
    "old_nums = [35, 12, 8, 99, 60, 52]\n",
    "\n",
    "def is_even(num):\n",
    "    \"\"\"判断num是不是偶数\"\"\"\n",
    "    return num % 2 == 0\n",
    "\n",
    "def square(num):\n",
    "    \"\"\"求平方\"\"\"\n",
    "    return num ** 2\n",
    "\n",
    "print(list(filter(is_even, old_nums)))\n",
    "\n",
    "# 求偶数的平方\n",
    "# 1. 传入函数的方法\n",
    "print(list(map(square, (filter(is_even, old_nums)))))\n",
    "# 2. 列表生成式\n",
    "new_nums = [num ** 2 for num in old_nums if num % 2 == 0]\n",
    "print(new_nums)\n",
    "# 3. 匿名函数\n",
    "print(list(map(lambda x: x ** 2, filter(lambda x: x % 2 == 0, old_nums))))"
   ]
  },
  {
   "cell_type": "code",
   "execution_count": 207,
   "id": "f75658a3",
   "metadata": {},
   "outputs": [],
   "source": [
    "# 装饰器函数样例：统计函数计算时间\n",
    "import time\n",
    "\n",
    "def record_time(func):\n",
    "\n",
    "    def wrapper(*args, **kwargs):\n",
    "        # 在执行被装饰的函数之前记录开始时间\n",
    "        start = time.time()\n",
    "        # 执行被装饰的函数并获取返回值\n",
    "        result = func(*args, **kwargs)\n",
    "        # 在执行被装饰的函数之后记录结束时间\n",
    "        end = time.time()\n",
    "        # 计算和显示被装饰函数的执行时间\n",
    "        print(f'{func.__name__}执行时间: {end - start:.2f}秒')\n",
    "        # 返回被装饰函数的返回值\n",
    "        return result\n",
    "    \n",
    "    return wrapper"
   ]
  },
  {
   "cell_type": "code",
   "execution_count": 211,
   "id": "4a67f6b4",
   "metadata": {},
   "outputs": [
    {
     "name": "stdout",
     "output_type": "stream",
     "text": [
      "开始下载Python从入门到放弃.pdf.\n",
      "Python从入门到放弃.pdf下载完成.\n",
      "download执行时间: 4.46秒\n"
     ]
    }
   ],
   "source": [
    "# 装饰器调用方式\n",
    "def download(filename):\n",
    "    \"\"\"下载文件\"\"\"\n",
    "    print(f'开始下载{filename}.')\n",
    "    time.sleep(random.random() * 6)\n",
    "    print(f'{filename}下载完成.')\n",
    "\n",
    "# 1.直接调用\n",
    "download = record_time(download)\n",
    "download('Python从入门到放弃.pdf')"
   ]
  },
  {
   "cell_type": "code",
   "execution_count": 213,
   "id": "4c441740",
   "metadata": {},
   "outputs": [
    {
     "name": "stdout",
     "output_type": "stream",
     "text": [
      "开始上传Python从入门到放弃.pdf.\n",
      "Python从入门到放弃.pdf上传完成.\n",
      "upload执行时间: 5.97秒\n"
     ]
    }
   ],
   "source": [
    "# 2. 使用@语法糖\n",
    "@record_time\n",
    "def upload(filename):\n",
    "    \"\"\"上传文件\"\"\"\n",
    "    print(f'开始上传{filename}.')\n",
    "    time.sleep(random.random() * 6)\n",
    "    print(f'{filename}上传完成.')\n",
    "\n",
    "upload('Python从入门到放弃.pdf')"
   ]
  },
  {
   "cell_type": "code",
   "execution_count": 216,
   "id": "e703e8fd",
   "metadata": {},
   "outputs": [
    {
     "name": "stdout",
     "output_type": "stream",
     "text": [
      "开始处理100个数据.\n",
      "100个数据处理完成.\n"
     ]
    }
   ],
   "source": [
    "from functools import wraps\n",
    "\n",
    "def record_time2(func):\n",
    "\n",
    "    @wraps(func)\n",
    "    def wrapper(*args, **kwargs):\n",
    "        # 在执行被装饰的函数之前记录开始时间\n",
    "        start = time.time()\n",
    "        # 执行被装饰的函数并获取返回值\n",
    "        result = func(*args, **kwargs)\n",
    "        # 在执行被装饰的函数之后记录结束时间\n",
    "        end = time.time()\n",
    "        # 计算和显示被装饰函数的执行时间\n",
    "        print(f'{func.__name__}执行时间: {end - start:.2f}秒')\n",
    "        # 返回被装饰函数的返回值\n",
    "        return result\n",
    "    \n",
    "    return wrapper\n",
    "\n",
    "@record_time2\n",
    "def process_data(n):\n",
    "    \"\"\"处理数据\"\"\"\n",
    "    print(f'开始处理{n}个数据.')\n",
    "    time.sleep(random.random() * 6)\n",
    "    print(f'{n}个数据处理完成.')\n",
    "\n",
    "# 被装饰后的函数\n",
    "# process_data(100)\n",
    "# 未被装饰的函数\n",
    "process_data.__wrapped__(100)"
   ]
  },
  {
   "cell_type": "code",
   "execution_count": 224,
   "id": "b0e5d2f5",
   "metadata": {},
   "outputs": [
    {
     "data": {
      "text/plain": [
       "2"
      ]
     },
     "execution_count": 224,
     "metadata": {},
     "output_type": "execute_result"
    }
   ],
   "source": [
    "# 嵌套函数的执行\n",
    "from functools import lru_cache\n",
    "\n",
    "@lru_cache()\n",
    "def fibonacci(n):\n",
    "    \"\"\"计算斐波那契数列的第n项\"\"\"\n",
    "    if n <= 0:\n",
    "        return 0\n",
    "    elif n == 1:\n",
    "        return 1\n",
    "    else:\n",
    "        return fibonacci(n - 1) + fibonacci(n - 2)\n",
    "\n",
    "fibonacci(3)"
   ]
  }
 ],
 "metadata": {
  "kernelspec": {
   "display_name": "base",
   "language": "python",
   "name": "python3"
  },
  "language_info": {
   "codemirror_mode": {
    "name": "ipython",
    "version": 3
   },
   "file_extension": ".py",
   "mimetype": "text/x-python",
   "name": "python",
   "nbconvert_exporter": "python",
   "pygments_lexer": "ipython3",
   "version": "3.12.2"
  }
 },
 "nbformat": 4,
 "nbformat_minor": 5
}
