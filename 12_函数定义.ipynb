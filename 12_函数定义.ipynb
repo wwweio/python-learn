{
 "cells": [
  {
   "cell_type": "code",
   "execution_count": 3,
   "id": "211c9418",
   "metadata": {},
   "outputs": [
    {
     "data": {
      "text/plain": [
       "(1, 2, 3)"
      ]
     },
     "execution_count": 3,
     "metadata": {},
     "output_type": "execute_result"
    }
   ],
   "source": [
    "def add(m, n):\n",
    "    return m, n, m + n\n",
    "add(1, 2)"
   ]
  },
  {
   "cell_type": "code",
   "execution_count": null,
   "id": "5813114a",
   "metadata": {},
   "outputs": [
    {
     "data": {
      "text/plain": [
       "120"
      ]
     },
     "execution_count": 5,
     "metadata": {},
     "output_type": "execute_result"
    }
   ],
   "source": [
    "# 函数引入同时使用别名：求阶乘,\n",
    "from math import factorial as f\n",
    "f(5)"
   ]
  },
  {
   "cell_type": "code",
   "execution_count": 8,
   "id": "bc6179d9",
   "metadata": {},
   "outputs": [
    {
     "name": "stdout",
     "output_type": "stream",
     "text": [
      "1 5 3\n"
     ]
    }
   ],
   "source": [
    "# 关键词参数:可以不按照顺序传递参数\n",
    "def print_num(b = 2, a = 1, c = 3):\n",
    "    print(a, b, c)\n",
    "print_num(5,1)"
   ]
  },
  {
   "cell_type": "code",
   "execution_count": 18,
   "id": "56761f9b",
   "metadata": {},
   "outputs": [
    {
     "ename": "SyntaxError",
     "evalue": "positional argument follows keyword argument (3451789291.py, line 9)",
     "output_type": "error",
     "traceback": [
      "\u001b[0;36m  Cell \u001b[0;32mIn[18], line 9\u001b[0;36m\u001b[0m\n\u001b[0;31m    print_num(a = 2, b = 2, 3)\u001b[0m\n\u001b[0m                             ^\u001b[0m\n\u001b[0;31mSyntaxError\u001b[0m\u001b[0;31m:\u001b[0m positional argument follows keyword argument\n"
     ]
    }
   ],
   "source": [
    "# 3. 强制位置参数：/,表示/前的参数必须按位置传递，不能使用关键字参数\n",
    "def print_num(b = 2, a = 1, /, c = 3):\n",
    "    print(a, b, c)\n",
    "\n",
    "\n",
    "print_num(1, 2, c = 2)\n",
    "\n",
    "# 会报错：位置参数不能出现在关键字参数之后\n",
    "print_num(a = 2, b = 2, 3)"
   ]
  },
  {
   "cell_type": "code",
   "execution_count": 22,
   "id": "96d2621d",
   "metadata": {},
   "outputs": [
    {
     "ename": "SyntaxError",
     "evalue": "positional argument follows keyword argument (257340153.py, line 5)",
     "output_type": "error",
     "traceback": [
      "\u001b[0;36m  Cell \u001b[0;32mIn[22], line 5\u001b[0;36m\u001b[0m\n\u001b[0;31m    print_num(1, a= 2, 2)\u001b[0m\n\u001b[0m                        ^\u001b[0m\n\u001b[0;31mSyntaxError\u001b[0m\u001b[0;31m:\u001b[0m positional argument follows keyword argument\n"
     ]
    }
   ],
   "source": [
    "def print_num(b = 2, *, a = 1, c = 3):\n",
    "    print(a, b, c)\n",
    "\n",
    "print_num(1, c = 2, a = 2)\n",
    "print_num(1, a= 2, 2)"
   ]
  },
  {
   "cell_type": "code",
   "execution_count": 88,
   "id": "9a5952a8",
   "metadata": {},
   "outputs": [
    {
     "data": {
      "text/plain": [
       "'gkQl3Lqn'"
      ]
     },
     "execution_count": 88,
     "metadata": {},
     "output_type": "execute_result"
    }
   ],
   "source": [
    "# 生成随机验证码\n",
    "import random\n",
    "import string\n",
    "\n",
    "ALL_CHARS = string.digits + string.ascii_letters\n",
    "\n",
    "def generate_code(*, code_len=4):\n",
    "    \"\"\"\n",
    "    生成指定长度的验证码\n",
    "    :param code_len: 验证码的长度(默认4个字符)\n",
    "    :return: 由大小写英文字母和数字构成的随机验证码字符串\n",
    "    \"\"\"\n",
    "    return ''.join(random.choices(ALL_CHARS, k=code_len))\n",
    "\n",
    "generate_code(code_len=8)"
   ]
  },
  {
   "cell_type": "code",
   "execution_count": 185,
   "id": "97b72b84",
   "metadata": {},
   "outputs": [
    {
     "data": {
      "text/plain": [
       "(1, 3, 5)"
      ]
     },
     "execution_count": 185,
     "metadata": {},
     "output_type": "execute_result"
    }
   ],
   "source": [
    "# 显式定义返回信息\n",
    "def func(a:int, b:int, c = 5) -> tuple[int, int, int]:\n",
    "    return a, b, c\n",
    "\n",
    "func(1,3)"
   ]
  },
  {
   "cell_type": "code",
   "execution_count": null,
   "id": "e427b741",
   "metadata": {},
   "outputs": [
    {
     "name": "stdout",
     "output_type": "stream",
     "text": [
      "3\n"
     ]
    }
   ],
   "source": [
    "# 高阶函数\n",
    "# 1.将函数作为参数传入\n",
    "import operator\n",
    "\n",
    "def cal(oper_fun, *args):\n",
    "    return oper_fun(*args)\n",
    "\n",
    "print(cal(operator.add, 1, 2))"
   ]
  },
  {
   "cell_type": "code",
   "execution_count": 204,
   "id": "9b0c420c",
   "metadata": {},
   "outputs": [
    {
     "name": "stdout",
     "output_type": "stream",
     "text": [
      "[12, 8, 60, 52]\n",
      "[144, 64, 3600, 2704]\n",
      "[144, 64, 3600, 2704]\n",
      "[144, 64, 3600, 2704]\n"
     ]
    }
   ],
   "source": [
    "# 2. 其他高阶函数\n",
    "old_nums = [35, 12, 8, 99, 60, 52]\n",
    "\n",
    "def is_even(num):\n",
    "    \"\"\"判断num是不是偶数\"\"\"\n",
    "    return num % 2 == 0\n",
    "\n",
    "def square(num):\n",
    "    \"\"\"求平方\"\"\"\n",
    "    return num ** 2\n",
    "\n",
    "print(list(filter(is_even, old_nums)))\n",
    "\n",
    "# 求偶数的平方\n",
    "# 1. 传入函数的方法\n",
    "print(list(map(square, (filter(is_even, old_nums)))))\n",
    "# 2. 列表生成式\n",
    "new_nums = [num ** 2 for num in old_nums if num % 2 == 0]\n",
    "print(new_nums)\n",
    "# 3. 匿名函数\n",
    "print(list(map(lambda x: x ** 2, filter(lambda x: x % 2 == 0, old_nums))))"
   ]
  }
 ],
 "metadata": {
  "kernelspec": {
   "display_name": "base",
   "language": "python",
   "name": "python3"
  },
  "language_info": {
   "codemirror_mode": {
    "name": "ipython",
    "version": 3
   },
   "file_extension": ".py",
   "mimetype": "text/x-python",
   "name": "python",
   "nbconvert_exporter": "python",
   "pygments_lexer": "ipython3",
   "version": "3.12.2"
  }
 },
 "nbformat": 4,
 "nbformat_minor": 5
}
