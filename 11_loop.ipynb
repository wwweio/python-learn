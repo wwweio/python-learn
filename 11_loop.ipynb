{
 "cells": [
  {
   "cell_type": "code",
   "execution_count": 1,
   "metadata": {},
   "outputs": [
    {
     "name": "stdout",
     "output_type": "stream",
     "text": [
      "5050\n"
     ]
    }
   ],
   "source": [
    "# 1.基础循环\n",
    "n = 100\n",
    "\n",
    "sum = 0\n",
    "index = 1\n",
    "while index <= 100:\n",
    "    sum += index\n",
    "    index += 1\n",
    "print(sum)"
   ]
  },
  {
   "cell_type": "code",
   "execution_count": 3,
   "metadata": {},
   "outputs": [
    {
     "name": "stdout",
     "output_type": "stream",
     "text": [
      "你输入的数字是:  1\n",
      "你输入的数字是:  2\n",
      "你输入的数字是:  3\n",
      "你输入的数字是:  4\n",
      "你输入的数字是:  5\n",
      "你输入的数字是:  6\n",
      "你输入的数字是:  7\n",
      "你输入的数字是:  8\n"
     ]
    },
    {
     "ename": "ValueError",
     "evalue": "invalid literal for int() with base 10: ''",
     "output_type": "error",
     "traceback": [
      "\u001b[0;31m---------------------------------------------------------------------------\u001b[0m",
      "\u001b[0;31mValueError\u001b[0m                                Traceback (most recent call last)",
      "Cell \u001b[0;32mIn[3], line 3\u001b[0m\n\u001b[1;32m      1\u001b[0m var \u001b[38;5;241m=\u001b[39m \u001b[38;5;241m1\u001b[39m\n\u001b[1;32m      2\u001b[0m \u001b[38;5;28;01mwhile\u001b[39;00m var \u001b[38;5;241m==\u001b[39m \u001b[38;5;241m1\u001b[39m :  \u001b[38;5;66;03m# 表达式永远为 true\u001b[39;00m\n\u001b[0;32m----> 3\u001b[0m    num \u001b[38;5;241m=\u001b[39m \u001b[38;5;28mint\u001b[39m(\u001b[38;5;28minput\u001b[39m(\u001b[38;5;124m\"\u001b[39m\u001b[38;5;124m输入一个数字  :\u001b[39m\u001b[38;5;124m\"\u001b[39m))\n\u001b[1;32m      4\u001b[0m    \u001b[38;5;28mprint\u001b[39m (\u001b[38;5;124m\"\u001b[39m\u001b[38;5;124m你输入的数字是: \u001b[39m\u001b[38;5;124m\"\u001b[39m, num)\n\u001b[1;32m      6\u001b[0m \u001b[38;5;28mprint\u001b[39m (\u001b[38;5;124m\"\u001b[39m\u001b[38;5;124mGood bye!\u001b[39m\u001b[38;5;124m\"\u001b[39m)\n",
      "\u001b[0;31mValueError\u001b[0m: invalid literal for int() with base 10: ''"
     ]
    }
   ],
   "source": [
    "# 2.无线循环\n",
    "var = 1\n",
    "while var == 1 :  # 表达式永远为 true\n",
    "   num = int(input(\"输入一个数字  :\"))\n",
    "   print (\"你输入的数字是: \", num)\n",
    " \n",
    "print (\"Good bye!\")"
   ]
  },
  {
   "cell_type": "code",
   "execution_count": 7,
   "metadata": {},
   "outputs": [
    {
     "name": "stdout",
     "output_type": "stream",
     "text": [
      "这不是0\n",
      "这是0\n"
     ]
    }
   ],
   "source": [
    "# 3.while 和 else的使用\n",
    "n = 1\n",
    "while n == True:\n",
    "    print('这不是0')\n",
    "    n = n - 1\n",
    "else:\n",
    "    print('这是0')"
   ]
  },
  {
   "cell_type": "code",
   "execution_count": 9,
   "metadata": {},
   "outputs": [
    {
     "name": "stdout",
     "output_type": "stream",
     "text": [
      "Visiting site: Baidu\n",
      "Visiting site: Google\n",
      "The site is: nb\n"
     ]
    }
   ],
   "source": [
    "sites = [\"Baidu\", \"Google\",\"nb\",\"Taobao\"]\n",
    "for site in sites:\n",
    "    if site == \"nb\":\n",
    "        print(\"The site is:\", site)\n",
    "        break\n",
    "    print(\"Visiting site:\", site)"
   ]
  },
  {
   "cell_type": "code",
   "execution_count": 10,
   "metadata": {},
   "outputs": [
    {
     "name": "stdout",
     "output_type": "stream",
     "text": [
      "0\n",
      "1\n",
      "2\n",
      "3\n",
      "4\n",
      "5\n",
      "6\n",
      "7\n",
      "8\n",
      "9\n"
     ]
    }
   ],
   "source": [
    "# for中经常使用的range函数\n",
    "for i in range(10):\n",
    "    print(i)"
   ]
  },
  {
   "cell_type": "code",
   "execution_count": 12,
   "metadata": {},
   "outputs": [
    {
     "name": "stdout",
     "output_type": "stream",
     "text": [
      "当前字母 : w\n",
      "当前字母 : w\n",
      "当前字母 : e\n",
      "当前字母 : i\n",
      "执行 pass 块\n",
      "当前字母 : o\n",
      "Good bye!\n"
     ]
    }
   ],
   "source": [
    "for letter in 'wweio': \n",
    "   if letter == 'o':\n",
    "      pass\n",
    "      print ('执行 pass 块')\n",
    "   print ('当前字母 :', letter)\n",
    " \n",
    "print (\"Good bye!\")"
   ]
  },
  {
   "cell_type": "code",
   "execution_count": 13,
   "metadata": {},
   "outputs": [
    {
     "name": "stdout",
     "output_type": "stream",
     "text": [
      "1\n",
      "1\n",
      "2\n",
      "3\n",
      "5\n",
      "8\n"
     ]
    }
   ],
   "source": [
    "a, b = 0, 1\n",
    "while b < 10:\n",
    "    print(b)\n",
    "    a, b = b, a+b"
   ]
  },
  {
   "cell_type": "code",
   "execution_count": null,
   "metadata": {},
   "outputs": [],
   "source": []
  },
  {
   "cell_type": "code",
   "execution_count": null,
   "metadata": {},
   "outputs": [],
   "source": []
  }
 ],
 "metadata": {
  "kernelspec": {
   "display_name": "base",
   "language": "python",
   "name": "python3"
  },
  "language_info": {
   "codemirror_mode": {
    "name": "ipython",
    "version": 3
   },
   "file_extension": ".py",
   "mimetype": "text/x-python",
   "name": "python",
   "nbconvert_exporter": "python",
   "pygments_lexer": "ipython3",
   "version": "3.12.2"
  }
 },
 "nbformat": 4,
 "nbformat_minor": 2
}
