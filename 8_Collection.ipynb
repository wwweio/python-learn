{
 "cells": [
  {
   "cell_type": "code",
   "execution_count": 8,
   "metadata": {},
   "outputs": [
    {
     "name": "stdout",
     "output_type": "stream",
     "text": [
      "{1, 2, 3, 4}\n",
      "{1, 2, 3, 45}\n",
      "False\n"
     ]
    }
   ],
   "source": [
    "#python中的集合是set  标志 花括号  {}\n",
    "#1.创建\n",
    "set1 = {1,2,3,4,1}\n",
    "set2 = set([1,2,3,45,1])\n",
    "print(set1)\n",
    "print(set2)\n",
    "\n",
    "# 创建一个空的集合\n",
    "set_k = set()\n",
    "print(1 in set_k)\n"
   ]
  },
  {
   "cell_type": "code",
   "execution_count": 16,
   "metadata": {},
   "outputs": [
    {
     "name": "stdout",
     "output_type": "stream",
     "text": [
      "{'b', 'r', 'a', 'd', 'c'}\n",
      "{'m', 'z', 'a', 'c', 'l'}\n",
      "{'b', 'r', 'd'}\n",
      "{'z', 'm', 'l'}\n",
      "{'c', 'a'}\n",
      "{'b', 'r', 'm', 'z', 'a', 'd', 'c', 'l'}\n",
      "{'z', 'b', 'r', 'd', 'm', 'l'}\n"
     ]
    }
   ],
   "source": [
    "# 2集合之间做处理  \n",
    "# 注意当set方法中为单一字符串时，会将字符作为集合的原作，去重重复字段后存储\n",
    "a = set('abracadabra')\n",
    "b = set('alacazam')\n",
    "print(a)\n",
    "print(b)\n",
    "\n",
    "# 集合之间的运算操作  \n",
    "# a中有但是b中没有的元素\n",
    "print(a - b)\n",
    "# b中有但是a中没有的元素\n",
    "print(b - a)\n",
    "\n",
    "# a和b之间都有的元素\n",
    "print(a & b)\n",
    "# a或b：a和b的所有元素\n",
    "print(a | b)\n",
    "# a亦或b：在a或者在b的元素（不同时出现在两个集合中的元素）\n",
    "print(a ^ b)"
   ]
  },
  {
   "cell_type": "code",
   "execution_count": 20,
   "metadata": {},
   "outputs": [
    {
     "name": "stdout",
     "output_type": "stream",
     "text": [
      "{'r', 'h', ';', 't', 's'}\n",
      "{'r', 'chat', 'h', ';', 't', 's'}\n",
      "{1, 2, 'r', 'chat', 34, 'h', ';', 't', 56, 123, 's'}\n"
     ]
    }
   ],
   "source": [
    "#2.添加元素\n",
    "set3 = set('strh;')\n",
    "print(set3)\n",
    "# 方法1 add\n",
    "set3.add('chat')\n",
    "print(set3)\n",
    "\n",
    "# 方法2 update 可以同时添加多个元素,元素种类任意\n",
    "set3.update([1,2,34],(123,56,1))\n",
    "\n",
    "print(set3)"
   ]
  },
  {
   "cell_type": "code",
   "execution_count": 25,
   "metadata": {},
   "outputs": [
    {
     "name": "stdout",
     "output_type": "stream",
     "text": [
      "{'nick', 'red', 'bird'}\n",
      "{'nick', 'bird'}\n",
      "nick\n",
      "{'bird'}\n"
     ]
    }
   ],
   "source": [
    "#3.移除元素  remove（没有时报错） discard（没有时不报错）\n",
    "set4 = set(['nick', 'bird', 'red'])\n",
    "print(set4)\n",
    "set4.remove('red')\n",
    "print(set4)\n",
    "set4.discard('red')\n",
    "# set4.remove('red')\n",
    "\n",
    "# pop随机删除一个元素，并返回删除的元素\n",
    "item = set4.pop()\n",
    "print(item)\n",
    "print(set4)"
   ]
  },
  {
   "cell_type": "code",
   "execution_count": 27,
   "metadata": {},
   "outputs": [
    {
     "name": "stdout",
     "output_type": "stream",
     "text": [
      "3\n",
      "0\n"
     ]
    }
   ],
   "source": [
    "#4.清空元素 clean\n",
    "set5 = {'nick', 'bird', 'red'}\n",
    "print(len(set5))\n",
    "set5.clear()\n",
    "print(len(set5))"
   ]
  },
  {
   "cell_type": "code",
   "execution_count": null,
   "metadata": {},
   "outputs": [],
   "source": [
    "#5.判断是否存在 in\n"
   ]
  }
 ],
 "metadata": {
  "kernelspec": {
   "display_name": "base",
   "language": "python",
   "name": "python3"
  },
  "language_info": {
   "codemirror_mode": {
    "name": "ipython",
    "version": 3
   },
   "file_extension": ".py",
   "mimetype": "text/x-python",
   "name": "python",
   "nbconvert_exporter": "python",
   "pygments_lexer": "ipython3",
   "version": "3.10.9"
  }
 },
 "nbformat": 4,
 "nbformat_minor": 2
}
