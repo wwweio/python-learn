{
 "cells": [
  {
   "cell_type": "code",
   "execution_count": 3,
   "id": "35eb8a90",
   "metadata": {},
   "outputs": [
    {
     "name": "stdout",
     "output_type": "stream",
     "text": [
      "大黄 is barking!\n",
      "大黄 is barking!\n"
     ]
    }
   ],
   "source": [
    "# 1. 创建一个对象\n",
    "class Dog:\n",
    "    # 2. 定义一个初始化方法\n",
    "    def __init__(self, name, age):\n",
    "        self.name = name\n",
    "        self.age = age\n",
    "\n",
    "    # 3. 定义一个实例方法\n",
    "    def bark(self):\n",
    "        print(f'{self.name} is barking!')\n",
    "\n",
    "dahuang = Dog('大黄', 3)\n",
    "\n",
    "# 4. 调用实例方法的2种方式\n",
    "dahuang.bark()  # 输出: 大黄 is barking!\n",
    "Dog.bark(dahuang)  # 等同于上面的调用"
   ]
  },
  {
   "cell_type": "code",
   "execution_count": 10,
   "id": "1bec07a6",
   "metadata": {},
   "outputs": [
    {
     "name": "stdout",
     "output_type": "stream",
     "text": [
      "8\n"
     ]
    }
   ],
   "source": [
    "class Dog:\n",
    "    def __init__(self, name):\n",
    "        self.name = name\n",
    "\n",
    "# 使用构造函数创建对象\n",
    "heibao = Dog('黑豹')\n",
    "\n",
    "# 动态添加属性\n",
    "heibao.age = 8\n",
    "print(heibao.age)"
   ]
  },
  {
   "cell_type": "code",
   "execution_count": 14,
   "id": "e54dd2af",
   "metadata": {},
   "outputs": [
    {
     "ename": "AttributeError",
     "evalue": "'Dog' object has no attribute 'age'",
     "output_type": "error",
     "traceback": [
      "\u001b[0;31m---------------------------------------------------------------------------\u001b[0m",
      "\u001b[0;31mAttributeError\u001b[0m                            Traceback (most recent call last)",
      "Cell \u001b[0;32mIn[14], line 10\u001b[0m\n\u001b[1;32m      7\u001b[0m heibao \u001b[38;5;241m=\u001b[39m Dog(\u001b[38;5;124m'\u001b[39m\u001b[38;5;124m黑豹\u001b[39m\u001b[38;5;124m'\u001b[39m)\n\u001b[1;32m      9\u001b[0m \u001b[38;5;66;03m# 动态添加属性 这里就会报错了\u001b[39;00m\n\u001b[0;32m---> 10\u001b[0m heibao\u001b[38;5;241m.\u001b[39mage \u001b[38;5;241m=\u001b[39m \u001b[38;5;241m8\u001b[39m\n\u001b[1;32m     11\u001b[0m \u001b[38;5;28mprint\u001b[39m(heibao\u001b[38;5;241m.\u001b[39mage)\n",
      "\u001b[0;31mAttributeError\u001b[0m: 'Dog' object has no attribute 'age'"
     ]
    }
   ],
   "source": [
    "class Dog:\n",
    "    __slots__ = ('name')\n",
    "    def __init__(self, name):\n",
    "        self.name = name\n",
    "\n",
    "# 使用构造函数创建对象\n",
    "heibao = Dog('黑豹')\n",
    "\n",
    "# 动态添加属性 这里就会报错了\n",
    "heibao.age = 8\n",
    "print(heibao.age)"
   ]
  },
  {
   "cell_type": "code",
   "execution_count": 16,
   "id": "2c7466c9",
   "metadata": {},
   "outputs": [
    {
     "name": "stdout",
     "output_type": "stream",
     "text": [
      "Hello, my name is Alice. I'm a Human.\n",
      "Hello, my name is Bob. I'm a Human.\n",
      "Hello, my name is Alice. I'm a Human.\n",
      "Class species set to Homo sapiens\n",
      "Hello, my name is Alice. I'm a Homo sapiens.\n",
      "Hello, my name is Bob. I'm a Homo sapiens.\n",
      "True\n",
      "False\n"
     ]
    }
   ],
   "source": [
    "class MyClass:\n",
    "    # 类属性（所有实例共享）\n",
    "    species = \"Human\"\n",
    "\n",
    "    def __init__(self, name):\n",
    "        # 实例属性（每个实例独有）\n",
    "        self.name = name\n",
    "\n",
    "    # 实例方法：第一个参数是 self，可以访问实例属性和类属性\n",
    "    def greet(self):\n",
    "        return f\"Hello, my name is {self.name}. I'm a {self.species}.\"\n",
    "\n",
    "    # 类方法：使用 @classmethod，第一个参数是 cls，可以访问/修改类属性\n",
    "    @classmethod\n",
    "    def set_species(cls, new_species):\n",
    "        cls.species = new_species\n",
    "        return f\"Class species set to {cls.species}\"\n",
    "\n",
    "    # 静态方法：使用 @staticmethod，不接受 self 或 cls，与类/实例状态无关\n",
    "    @staticmethod\n",
    "    def is_adult(age):\n",
    "        return age >= 18\n",
    "\n",
    "\n",
    "# 演示调用\n",
    "# 创建两个实例\n",
    "a = MyClass(\"Alice\")\n",
    "b = MyClass(\"Bob\")\n",
    "\n",
    "# 实例方法：必须通过实例调用（也可以通过类调用并显式传入实例，但不常用）\n",
    "print(a.greet())  # 可以访问实例属性 name 和类属性 species\n",
    "print(b.greet())\n",
    "print(MyClass.greet(a))  # 通过类调用实例方法，显式传入实例 a\n",
    "\n",
    "# 类方法：通常通过类调用，改变或访问类级别的数据\n",
    "print(MyClass.set_species(\"Homo sapiens\"))  # 修改类属性 species\n",
    "# 修改后，所有实例看到的 species 都改变了\n",
    "print(a.greet())\n",
    "print(b.greet())\n",
    "\n",
    "# 静态方法：与类或实例无关，用于放置逻辑上属于类但不需要访问类/实例数据的函数\n",
    "print(MyClass.is_adult(20))   # True\n",
    "print(a.is_adult(16))         # 也可以通过实例调用，结果相同（False）"
   ]
  },
  {
   "cell_type": "code",
   "execution_count": 24,
   "id": "5dd1d583",
   "metadata": {},
   "outputs": [
    {
     "name": "stdout",
     "output_type": "stream",
     "text": [
      "74941.11475420021\n",
      "{'name': 'binli', 'color': 'red'}\n",
      "['__class__', '__delattr__', '__dict__', '__dir__', '__doc__', '__eq__', '__format__', '__ge__', '__getattribute__', '__getstate__', '__gt__', '__hash__', '__init__', '__init_subclass__', '__le__', '__lt__', '__module__', '__ne__', '__new__', '__reduce__', '__reduce_ex__', '__repr__', '__setattr__', '__sizeof__', '__str__', '__subclasshook__', '__weakref__', 'color', 'name', 'price']\n"
     ]
    }
   ],
   "source": [
    "import random\n",
    "\n",
    "class Car:\n",
    "    def __init__(self, name, color):\n",
    "        self.name = name\n",
    "        self.color = color \n",
    "    \n",
    "    @property\n",
    "    def price(self):\n",
    "        return 100000 * random.random()\n",
    "\n",
    "mim = Car('binli', 'red')\n",
    "print(mim.price)\n",
    "\n",
    "# 不包含price属性\n",
    "print(vars(mim))\n",
    "# 包含dir属性\n",
    "print(dir(mim))"
   ]
  },
  {
   "cell_type": "code",
   "execution_count": 30,
   "id": "f3fc1b66",
   "metadata": {},
   "outputs": [
    {
     "name": "stdout",
     "output_type": "stream",
     "text": [
      "小明 is eating in school\n",
      "小明 is learing\n"
     ]
    }
   ],
   "source": [
    "# 类的继承，多继承\n",
    "class Person:\n",
    "    def __init__(self, name, age):\n",
    "        self.name = name\n",
    "        self.age = age\n",
    "    \n",
    "    def eat(self):\n",
    "        return self.name + ' is eating'\n",
    "\n",
    "class Student(Person):\n",
    "    def __init__(self, name, age):\n",
    "        super().__init__(name, age)\n",
    "    \n",
    "    def learn(self):\n",
    "        return self.name + ' is learing'\n",
    "    \n",
    "    def eat(self):\n",
    "        return self.name + ' is eating in school'\n",
    "\n",
    "xiaoming = Student('小明', 18)\n",
    "print(xiaoming.eat())\n",
    "print(xiaoming.learn())"
   ]
  },
  {
   "cell_type": "code",
   "execution_count": null,
   "id": "7f172eba",
   "metadata": {},
   "outputs": [],
   "source": []
  }
 ],
 "metadata": {
  "kernelspec": {
   "display_name": "base",
   "language": "python",
   "name": "python3"
  },
  "language_info": {
   "codemirror_mode": {
    "name": "ipython",
    "version": 3
   },
   "file_extension": ".py",
   "mimetype": "text/x-python",
   "name": "python",
   "nbconvert_exporter": "python",
   "pygments_lexer": "ipython3",
   "version": "3.12.2"
  }
 },
 "nbformat": 4,
 "nbformat_minor": 5
}
