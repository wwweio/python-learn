{
 "cells": [
  {
   "cell_type": "code",
   "execution_count": 2,
   "id": "e5df8f37",
   "metadata": {},
   "outputs": [
    {
     "name": "stdout",
     "output_type": "stream",
     "text": [
      "Collecting allennlp\n",
      "  Downloading allennlp-2.10.1-py3-none-any.whl.metadata (21 kB)\n",
      "INFO: pip is looking at multiple versions of allennlp to determine which version is compatible with other requirements. This could take a while.\n",
      "  Downloading allennlp-2.10.0-py3-none-any.whl.metadata (20 kB)\n",
      "  Downloading allennlp-2.9.3-py3-none-any.whl.metadata (19 kB)\n",
      "  Downloading allennlp-2.9.2-py3-none-any.whl.metadata (19 kB)\n",
      "  Downloading allennlp-2.9.1-py3-none-any.whl.metadata (19 kB)\n",
      "  Downloading allennlp-2.9.0-py3-none-any.whl.metadata (18 kB)\n",
      "  Downloading allennlp-2.8.0-py3-none-any.whl.metadata (17 kB)\n",
      "  Downloading allennlp-2.7.0-py3-none-any.whl.metadata (17 kB)\n",
      "INFO: pip is still looking at multiple versions of allennlp to determine which version is compatible with other requirements. This could take a while.\n",
      "  Downloading allennlp-2.6.0-py3-none-any.whl.metadata (17 kB)\n",
      "  Downloading allennlp-2.5.0-py3-none-any.whl.metadata (17 kB)\n",
      "  Downloading allennlp-2.4.0-py3-none-any.whl.metadata (17 kB)\n",
      "  Downloading allennlp-2.3.1-py3-none-any.whl.metadata (17 kB)\n",
      "  Downloading allennlp-2.3.0-py3-none-any.whl.metadata (17 kB)\n",
      "INFO: This is taking longer than usual. You might need to provide the dependency resolver with stricter constraints to reduce runtime. See https://pip.pypa.io/warnings/backtracking for guidance. If you want to abort this run, press Ctrl + C.\n",
      "  Downloading allennlp-2.2.0-py3-none-any.whl.metadata (17 kB)\n",
      "  Downloading allennlp-2.1.0-py3-none-any.whl.metadata (17 kB)\n",
      "  Downloading allennlp-2.0.1-py3-none-any.whl.metadata (15 kB)\n",
      "  Downloading allennlp-2.0.0-py3-none-any.whl.metadata (15 kB)\n",
      "  Downloading allennlp-1.5.0-py3-none-any.whl.metadata (15 kB)\n",
      "  Downloading allennlp-1.4.1-py3-none-any.whl.metadata (15 kB)\n",
      "  Downloading allennlp-1.4.0-py3-none-any.whl.metadata (15 kB)\n",
      "  Downloading allennlp-1.3.0-py3-none-any.whl.metadata (15 kB)\n",
      "  Downloading allennlp-1.2.2-py3-none-any.whl.metadata (15 kB)\n",
      "  Downloading allennlp-1.2.1-py3-none-any.whl.metadata (14 kB)\n",
      "  Downloading allennlp-1.2.0-py3-none-any.whl.metadata (13 kB)\n",
      "  Downloading allennlp-1.1.0-py3-none-any.whl.metadata (13 kB)\n",
      "  Downloading allennlp-1.0.0-py3-none-any.whl.metadata (11 kB)\n",
      "  Downloading allennlp-0.9.0-py3-none-any.whl.metadata (11 kB)\n",
      "Collecting torch>=1.2.0 (from allennlp)\n",
      "  Downloading torch-2.2.2-cp312-none-macosx_10_9_x86_64.whl.metadata (25 kB)\n",
      "Requirement already satisfied: overrides in /Users/wweio/miniconda3/lib/python3.12/site-packages (from allennlp) (7.4.0)\n",
      "Collecting nltk (from allennlp)\n",
      "  Using cached nltk-3.9.1-py3-none-any.whl.metadata (2.9 kB)\n",
      "Collecting spacy<2.2,>=2.1.0 (from allennlp)\n",
      "  Downloading spacy-2.1.9.tar.gz (30.7 MB)\n",
      "\u001b[2K     \u001b[90m━━━━━━━━━━━━━━━━━━━━━━━━━━━━━━━━━━━━━━━━\u001b[0m \u001b[32m30.7/30.7 MB\u001b[0m \u001b[31m4.2 MB/s\u001b[0m eta \u001b[36m0:00:00\u001b[0m00:01\u001b[0m00:01\u001b[0mm\n",
      "\u001b[?25h  Installing build dependencies ... \u001b[?25l\\^C\n"
     ]
    }
   ],
   "source": [
    "# !pip show allennlp\n",
    "!pip install allennlp"
   ]
  },
  {
   "cell_type": "code",
   "execution_count": null,
   "id": "ddd40a28",
   "metadata": {},
   "outputs": [],
   "source": [
    "from abc import abstractmethod\n",
    "from allennlp.common import Registrable\n",
    "# 1. 定义基础接口\n",
    "class BaseProcessor(Registrable):\n",
    "    @abstractmethod\n",
    "    def process(self, data):\n",
    "        pass\n",
    "\n",
    "# 2. 注册具体实现\n",
    "@BaseProcessor.register(\"text_processor\")\n",
    "class TextProcessor(BaseProcessor):\n",
    "    def __init__(self, model: str, max_length: int = 100):\n",
    "        self.model = model\n",
    "        self.max_length = max_length\n",
    "\n",
    "    def process(self, data):\n",
    "        return f\"Processed with {self.model}\"\n",
    "\n",
    "@BaseProcessor.register(\"image_processor\")\n",
    "class ImageProcessor(BaseProcessor):\n",
    "    def __init__(self, model: str, batch_size: int = 32):\n",
    "        self.model = model\n",
    "        self.batch_size = batch_size\n",
    "\n",
    "    def process(self, data):\n",
    "        return f\"Processed images with {self.model}\"\n",
    "\n",
    "# 3. 通过配置动态选择\n",
    "processor_config = {\n",
    "    \"type\": \"text_processor\",\n",
    "    \"model\": \"bert-base\",\n",
    "    \"max_length\": 200\n",
    "}\n",
    "\n",
    "processor = BaseProcessor.from_config(processor_config)\n",
    "result = processor.process(\"hello world\")"
   ]
  }
 ],
 "metadata": {
  "kernelspec": {
   "display_name": "base",
   "language": "python",
   "name": "python3"
  },
  "language_info": {
   "codemirror_mode": {
    "name": "ipython",
    "version": 3
   },
   "file_extension": ".py",
   "mimetype": "text/x-python",
   "name": "python",
   "nbconvert_exporter": "python",
   "pygments_lexer": "ipython3",
   "version": "3.12.2"
  }
 },
 "nbformat": 4,
 "nbformat_minor": 5
}
