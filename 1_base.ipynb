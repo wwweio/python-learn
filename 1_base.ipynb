{
 "cells": [
  {
   "cell_type": "markdown",
   "id": "38f4cf2d",
   "metadata": {},
   "source": [
    "### quick learn\n"
   ]
  },
  {
   "cell_type": "code",
   "execution_count": null,
   "id": "6d315bac",
   "metadata": {},
   "outputs": [
    {
     "name": "stdout",
     "output_type": "stream",
     "text": [
      "4\n",
      "64\n",
      "100\n",
      "256\n"
     ]
    }
   ],
   "source": [
    "# 1. 整数\n",
    "print(0b100)  # 二进制整数\n",
    "print(0o100)  # 八进制整数\n",
    "print(100)    # 十进制整数\n",
    "print(0x100)  # 十六进制整数"
   ]
  },
  {
   "cell_type": "code",
   "execution_count": null,
   "id": "2596c4b3",
   "metadata": {},
   "outputs": [
    {
     "name": "stdout",
     "output_type": "stream",
     "text": [
      "123.456\n",
      "123.456\n"
     ]
    }
   ],
   "source": [
    "# 2. 浮点数\n",
    "print(123.456)    # 数学写法\n",
    "print(1.23456e2)  # 科学计数法"
   ]
  },
  {
   "cell_type": "code",
   "execution_count": null,
   "id": "bcec758f",
   "metadata": {},
   "outputs": [
    {
     "name": "stdout",
     "output_type": "stream",
     "text": [
      "False\n"
     ]
    }
   ],
   "source": [
    "# 3. 字符串：可以使用单引号、双引号\n",
    "# 4. 布尔值；首字母要大写 True、False\n",
    "# 空值 None\n",
    "print(False == None)"
   ]
  },
  {
   "cell_type": "markdown",
   "id": "593624a5",
   "metadata": {},
   "source": [
    "关于变量的命名：\n",
    "- 惯例1：变量名通常使用小写英文字母，多个单词用下划线进行连接。\n",
    "- 🌟惯例2：受保护的变量用单个下划线开头。约束性质的封装\n",
    "    - 可以被外部访问，但是不建议这么做\n",
    "    - 不会被 from module import * 导入\n",
    "- 🌟惯例3：私有的变量用两个下划线开头。\n"
   ]
  },
  {
   "cell_type": "code",
   "execution_count": 13,
   "id": "8975eea9",
   "metadata": {},
   "outputs": [
    {
     "name": "stdout",
     "output_type": "stream",
     "text": [
      "<class 'int'>\n",
      "<class 'float'>\n",
      "<class 'str'>\n",
      "<class 'bool'>\n"
     ]
    }
   ],
   "source": [
    "\"\"\"\n",
    "py中初始化变量时无需指定变量类型,可以使用type函数检查变量的类型\n",
    "Python的变量在赋值时才存在，没有\"未初始化的变量\"这个概念。尝试访问未赋值的变量会引发NameError。\n",
    "\"\"\"\n",
    "a = 100\n",
    "b = 123.45\n",
    "c = 'hello, world'\n",
    "d = True\n",
    "print(type(a))  # <class 'int'>\n",
    "print(type(b))  # <class 'float'>\n",
    "print(type(c))  # <class 'str'>\n",
    "print(type(d))  # <class 'bool'>"
   ]
  },
  {
   "cell_type": "code",
   "execution_count": 19,
   "id": "740465b0",
   "metadata": {},
   "outputs": [
    {
     "name": "stdout",
     "output_type": "stream",
     "text": [
      "5\n"
     ]
    }
   ],
   "source": [
    "print(int('0101', base=2))"
   ]
  }
 ],
 "metadata": {
  "kernelspec": {
   "display_name": "base",
   "language": "python",
   "name": "python3"
  },
  "language_info": {
   "codemirror_mode": {
    "name": "ipython",
    "version": 3
   },
   "file_extension": ".py",
   "mimetype": "text/x-python",
   "name": "python",
   "nbconvert_exporter": "python",
   "pygments_lexer": "ipython3",
   "version": "3.12.2"
  }
 },
 "nbformat": 4,
 "nbformat_minor": 5
}
